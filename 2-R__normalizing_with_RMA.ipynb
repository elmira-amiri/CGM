{
 "cells": [
  {
   "cell_type": "code",
   "execution_count": null,
   "metadata": {
    "scrolled": true
   },
   "outputs": [],
   "source": [
    "library(affy)\n",
    "library(dplyr)\n",
    "library(data.table)"
   ]
  },
  {
   "cell_type": "code",
   "execution_count": null,
   "metadata": {},
   "outputs": [],
   "source": [
    "MAIN_DIR = '.'\n",
    "NORMALIZING = 'YES' #['YES', 'NO'] if normalizing for the first time select YES, otherwise select NO\n",
    "setwd(MAIN_DIR) # change working directory \n",
    "# CEL files\n",
    "DATASETS = list('GSE11121',\n",
    "                'GSE18864',\n",
    "                'GSE20711', \n",
    "                'GSE23593',\n",
    "                'GSE27120',\n",
    "                'GSE32646',\n",
    "                'GSE36771', \n",
    "                'GSE42568',\n",
    "                'GSE50948',\n",
    "                'GSE5460',\n",
    "                'GSE11001',\n",
    "                'GSE87007',\n",
    "                'GSE88770',\n",
    "                'GSE7390', \n",
    "                'GSE78958',\n",
    "                'GSE45255',\n",
    "                'GSE61304',\n",
    "                'GSE63471',\n",
    "                'GSE21653',\n",
    "                'GSE26639',\n",
    "                'GSE17907',\n",
    "                'GSE10810',\n",
    "                'GSE25066',\n",
    "                'GSE47109',\n",
    "                'GSE95700',\n",
    "                'GSE5327',\n",
    "                'GSE48390',\n",
    "                'GSE58984',\n",
    "                'GSE103091',\n",
    "                'GSE45827',\n",
    "                'GSE65194',\n",
    "                'GSE1456',\n",
    "                'GSE102484')"
   ]
  },
  {
   "cell_type": "code",
   "execution_count": null,
   "metadata": {},
   "outputs": [],
   "source": [
    "for (dataset in DATASETS){   \n",
    "    # loading the dataset \n",
    "    env <- new.env()\n",
    "    nm <- load(sprintf('%s/%s/%s_Affy.RData', MAIN_DIR, dataset, dataset), env)[1]\n",
    "    cancer_data <- env[[nm]]\n",
    "\n",
    "    if (NORMALIZING == 'YES'){\n",
    "\n",
    "        # Creating working directory rma\n",
    "        dir.create(sprintf('%s/%s/rma',MAIN_DIR, dataset))\n",
    "\n",
    "        # rma\n",
    "        cancer_data.rma <- rma(cancer_data)\n",
    "\n",
    "        # save rma (pancreatic.rma.RData)\n",
    "        save(cancer_data.rma , file= sprintf('%s/%s/rma/%s.rma.RData', MAIN_DIR, dataset, dataset))\n",
    "        cancer_data.rma\n",
    "    } else{\n",
    "\n",
    "        # loading dataset '* _Affy.RData'--- from 1. R_Cell_files_ to _affy\n",
    "        env <- new.env()\n",
    "        nm <- load(sprintf('%s/%s/rma/%s.rma.RData', MAIN_DIR, dataset, dataset), env)[1]\n",
    "        cancer_data.rma <- env[[nm]]\n",
    "\n",
    "    }\n",
    "\n",
    "    cancer_data.matrix <- affy::exprs(cancer_data.rma)\n",
    "    head(cancer_data.matrix)\n",
    "\n",
    "    # save expression as RData (.matrix.RData)\n",
    "    save(cancer_data.matrix, file=sprintf('%s/%s/rma/%s.matrix.RData', MAIN_DIR, dataset, dataset))\n",
    "\n",
    "    # save exptession as csv (.matrix.csv)\n",
    "    write.csv(cancer_data.matrix, file= sprintf('%s/%s/rma/%s.matrix.csv', MAIN_DIR, dataset, dataset), row.names=TRUE)}"
   ]
  }
 ],
 "metadata": {
  "kernelspec": {
   "display_name": "R 3.3",
   "language": "R",
   "name": "ir33"
  },
  "language_info": {
   "codemirror_mode": "r",
   "file_extension": ".r",
   "mimetype": "text/x-r-source",
   "name": "R",
   "pygments_lexer": "r",
   "version": "3.3.3"
  }
 },
 "nbformat": 4,
 "nbformat_minor": 2
}
