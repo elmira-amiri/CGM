{
 "cells": [
  {
   "cell_type": "code",
   "execution_count": null,
   "metadata": {},
   "outputs": [],
   "source": [
    "import re\n",
    "import os\n",
    "import sys\n",
    "import time\n",
    "import pickle \n",
    "import requests\n",
    "import numpy as np\n",
    "import pandas as pd\n",
    "from ipywidgets import widgets"
   ]
  },
  {
   "cell_type": "code",
   "execution_count": null,
   "metadata": {},
   "outputs": [],
   "source": [
    "MAIN_DIR = '.'\n",
    "DATASETS = ['GSE11121',\n",
    "            'GSE18864',\n",
    "            'GSE20711',\n",
    "            'GSE23593',\n",
    "            'GSE27120',\n",
    "            'GSE32646',\n",
    "            'GSE36771', \n",
    "            'GSE42568', \n",
    "            'GSE50948', \n",
    "            'GSE5460', \n",
    "            'GSE11001',\n",
    "            'GSE87007',\n",
    "            'GSE88770',\n",
    "            'GSE7390', \n",
    "            'GSE78958',\n",
    "            'GSE45255',\n",
    "            'GSE61304',\n",
    "            'GSE63471',\n",
    "            'GSE21653',\n",
    "            'GSE26639',\n",
    "            'GSE17907',\n",
    "            'GSE10810',\n",
    "            'GSE25066',\n",
    "            'GSE47109',\n",
    "            'GSE95700',\n",
    "            'GSE5327',\n",
    "            'GSE48390',\n",
    "            'GSE58984',\n",
    "            'GSE103091',\n",
    "            'GSE45827',\n",
    "            'GSE65194', \n",
    "            'GSE1456',\n",
    "            'GSE102484']"
   ]
  },
  {
   "cell_type": "code",
   "execution_count": null,
   "metadata": {
    "scrolled": false
   },
   "outputs": [],
   "source": [
    "annot = pd.read_csv('prob2gene.csv')\n",
    "probe_to_symbol = pd.Series(annot['V2'].values, index=annot['V1']).to_dict()"
   ]
  },
  {
   "cell_type": "code",
   "execution_count": null,
   "metadata": {},
   "outputs": [],
   "source": [
    "df = pd.read_csv(f'{MAIN_DIR}/merged/merged_COMBAT_rma.matrix.csv', index_col=0).transpose()    \n",
    "df.shape"
   ]
  },
  {
   "cell_type": "markdown",
   "metadata": {},
   "source": [
    "### Change the column names to their corresponding genes"
   ]
  },
  {
   "cell_type": "code",
   "execution_count": null,
   "metadata": {},
   "outputs": [],
   "source": [
    "result = []\n",
    "for id, row in df.iterrows():\n",
    "    genes = {}\n",
    "    \n",
    "    # Iterate over columns\n",
    "    for probe, value in row.iteritems():\n",
    "        if probe_to_symbol.get(probe):\n",
    "            if probe_to_symbol[probe] in genes:\n",
    "                genes[probe_to_symbol[probe]].append(float(value))  # if we alread have the gene in our dictionary\n",
    "            else:\n",
    "                genes[probe_to_symbol[probe]] = [float(value)] # create a new list for the values of this gene\n",
    "                \n",
    "        # Just for the case of probes with 'X' at the beginning        \n",
    "        if probe_to_symbol.get(probe[1:]):\n",
    "            if probe_to_symbol[probe[1:]] in genes:\n",
    "                genes[probe_to_symbol[probe[1:]]].append(float(value))\n",
    "            else:\n",
    "                genes[probe_to_symbol[probe[1:]]] = [float(value)]\n",
    "                \n",
    "    res_genes = {'sample_id': id.split('.')[0]}\n",
    "    for k, v in genes.items():\n",
    "        res_genes[k] = sum(v) / float(len(v))\n",
    "\n",
    "    result.append(res_genes)\n",
    "    \n",
    "df_genes = pd.DataFrame(result)\n",
    "df_genes.head(5)"
   ]
  },
  {
   "cell_type": "code",
   "execution_count": null,
   "metadata": {},
   "outputs": [],
   "source": [
    "# deleting AFF \n",
    "unwanted =df_genes.filter(regex='^AFFX')\n",
    "df_genes.drop(unwanted, axis=1, inplace=True)\n",
    "\n",
    "# deleting -at\n",
    "unwanted =df_genes.filter(regex='_at')\n",
    "df_genes.drop(unwanted, axis=1, inplace=True)\n",
    "df_genes.head(5) \n",
    "\n",
    "unwanted = df_genes.filter(regex='---')\n",
    "df_genes.drop(unwanted, axis=1, inplace=True)\n",
    "df_genes.head(5) "
   ]
  },
  {
   "cell_type": "code",
   "execution_count": null,
   "metadata": {
    "scrolled": true
   },
   "outputs": [],
   "source": [
    "# selecting 'sample_id' as index\n",
    "df_genes =df_genes.set_index('sample_id')\n",
    "df_genes.head(5)"
   ]
  },
  {
   "cell_type": "code",
   "execution_count": null,
   "metadata": {},
   "outputs": [],
   "source": [
    "df_genes.shape"
   ]
  },
  {
   "cell_type": "markdown",
   "metadata": {},
   "source": [
    "## Add clinical data"
   ]
  },
  {
   "cell_type": "code",
   "execution_count": null,
   "metadata": {
    "scrolled": true
   },
   "outputs": [],
   "source": [
    "df_total = None\n",
    "df_clinical_data = pd.DataFrame()\n",
    "\n",
    "for dataset in DATASETS:\n",
    "    print(f'Loading {dataset} cancer data...')\n",
    "    \n",
    "    # loading clinical data\n",
    "    df_cancer_ann = pd.read_csv(f'{MAIN_DIR}/main_data/{dataset}/{dataset}_annotation.csv') \n",
    "    #df_cancer_ann['Dataset'] = cancer\n",
    "    df_cancer_ann.rename(columns={'sample':'sample_id'}, inplace=True) \n",
    "    \n",
    "    # select important annotations\n",
    "    df_important_ann = df_cancer_ann[['sample_id', 'tissue', 'grade', 'stage', 'subtype', 'tumor size(mm)',\n",
    "                                      'age at diagnosis(yrs)', 'death event time(yrs)', 'death event', 'er',\n",
    "                                      'pr', 'her2', 't.rfs', 'e.rfs',  't.tdm', 'e.tdm']]\n",
    "    \n",
    "    # all clinical data\n",
    "    df_clinical_data = df_clinical_data.append(df_important_ann, ignore_index = True) \n",
    "\n",
    "df_clinical_data = df_clinical_data.replace({'subtype': {' Basal': 'Basal', 'lumB': 'LumB', 'lumA': 'LumA', ' LumA': 'LumA', ' LumB':'LumB', ' HER2':'HER2', 'Normal': -1, '-1':-1}})\n",
    "df_clinical_data = df_clinical_data.replace({'subtype': {'Her2':'HER2', ' Her2': 'HER2'}})\n",
    "df_clinical_data = df_clinical_data.replace({'subtype': {'Basal':3, 'HER2':2, 'LumB':1, 'LumA':0 }})"
   ]
  },
  {
   "cell_type": "code",
   "execution_count": null,
   "metadata": {},
   "outputs": [],
   "source": [
    "df_clinical_data"
   ]
  },
  {
   "cell_type": "code",
   "execution_count": null,
   "metadata": {},
   "outputs": [],
   "source": [
    "# save data as dict \n",
    "with open(f'/data/Elmira_Data/MALANI/cancer_data/clinical_data/clean_data/breast_clinical_data.pkl', 'wb') as fp:\n",
    "    pickle.dump(df_clinical_data, fp)"
   ]
  },
  {
   "cell_type": "code",
   "execution_count": null,
   "metadata": {},
   "outputs": [],
   "source": [
    "# merge clinical data and gene experession\n",
    "cancer_GE_Clinical_data = pd.DataFrame()\n",
    "cancer_GE_Clinical_data = df_genes.merge(df_all_clinical, on=['sample_id'])\n",
    "\n",
    "# remove dublicated rowes\n",
    "cancer_GE_Clinical_data = cancer_GE_Clinical_data.drop_duplicates(['sample_id'], keep='last')\n",
    "cancer_GE_Clinical_data.shape"
   ]
  },
  {
   "cell_type": "code",
   "execution_count": null,
   "metadata": {},
   "outputs": [],
   "source": [
    "# Tumour samples\n",
    "indexName = df_all_data[df_all_data['tissue'] == 1].index\n",
    "df_all_cancer = df_all_data.loc[indexName]\n",
    "df_all_cancer.to_pickle('df_tumour_expression.pkl')\n",
    "df_all_cancer.to_csv('df_tumour_expression.csv')"
   ]
  },
  {
   "cell_type": "code",
   "execution_count": null,
   "metadata": {},
   "outputs": [],
   "source": [
    "# Normal samples\n",
    "indexNames = df_all_data[df_all_data['tissue'] == 0].index\n",
    "df_all_normal = df_all_data.loc[indexNames]\n",
    "df_all_normal.to_pickle('df_normal_sample_expression.pkl')\n",
    "df_all_normal.to_csv('df_normal_sample_expression.csv')"
   ]
  }
 ],
 "metadata": {
  "kernelspec": {
   "display_name": "Python 3",
   "language": "python",
   "name": "python3"
  },
  "language_info": {
   "codemirror_mode": {
    "name": "ipython",
    "version": 3
   },
   "file_extension": ".py",
   "mimetype": "text/x-python",
   "name": "python",
   "nbconvert_exporter": "python",
   "pygments_lexer": "ipython3",
   "version": "3.8.10"
  }
 },
 "nbformat": 4,
 "nbformat_minor": 2
}
