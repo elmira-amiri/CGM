{
 "cells": [
  {
   "cell_type": "code",
   "execution_count": null,
   "metadata": {
    "scrolled": true
   },
   "outputs": [],
   "source": [
    "library(affy)\n",
    "library(dplyr)\n",
    "library(data.table)"
   ]
  },
  {
   "cell_type": "code",
   "execution_count": null,
   "metadata": {},
   "outputs": [],
   "source": [
    "# CEL files  \n",
    "DATASETS = list('GSE11121',\n",
    "                'GSE18864', \n",
    "                'GSE20711', \n",
    "                'GSE23593', \n",
    "                'GSE27120', \n",
    "                'GSE32646',\n",
    "                'GSE36771', \n",
    "                'GSE42568', \n",
    "                'GSE50948', \n",
    "                'GSE5460', \n",
    "                'GSE11001', \n",
    "                'GSE87007', \n",
    "                'GSE88770', \n",
    "                'GSE7390', \n",
    "                'GSE78958', \n",
    "                'GSE45255', \n",
    "                'GSE61304', \n",
    "                'GSE63471', \n",
    "                'GSE21653', \n",
    "                'GSE26639', \n",
    "                'GSE17907',\n",
    "                'GSE10810', \n",
    "                'GSE25066', \n",
    "                'GSE47109', \n",
    "                'GSE95700', \n",
    "                'GSE5327', \n",
    "                'GSE48390', \n",
    "                'GSE58984',\n",
    "                'GSE103091', \n",
    "                'GSE45827', \n",
    "                'GSE65194', \n",
    "                'GSE1456',\n",
    "                'GSE102484')\n",
    "MAIN_DIR = '.'"
   ]
  },
  {
   "cell_type": "code",
   "execution_count": null,
   "metadata": {
    "scrolled": false
   },
   "outputs": [],
   "source": [
    "for (dataset in DATASETS){ \n",
    "    # set working directory\n",
    "    celpath = sprintf('%s/%s', MAIN_DIR, dataset)\n",
    "    setwd(celpath)\n",
    "    \n",
    "    # Creating working directory\n",
    "    dir.create(sprintf('%s/%s', MAIN_DIR, dataset))\n",
    "\n",
    "    # Changing the cells data to Affy to use in rma (ReadAffy)\n",
    "    cancer_affy <- affy::ReadAffy(celfile.path = celpath)\n",
    "\n",
    "    # Save the file\n",
    "    save(cancer_affy, file=sprintf('%s/%s/%s_Affy.RData', MAIN_DIR, dataset, dataset))\n",
    "    }"
   ]
  }
 ],
 "metadata": {
  "kernelspec": {
   "display_name": "R 3.3",
   "language": "R",
   "name": "ir33"
  },
  "language_info": {
   "codemirror_mode": "r",
   "file_extension": ".r",
   "mimetype": "text/x-r-source",
   "name": "R",
   "pygments_lexer": "r",
   "version": "3.3.3"
  }
 },
 "nbformat": 4,
 "nbformat_minor": 2
}
