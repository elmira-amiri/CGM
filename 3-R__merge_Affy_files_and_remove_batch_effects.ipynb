{
 "cells": [
  {
   "cell_type": "code",
   "execution_count": null,
   "metadata": {
    "scrolled": false
   },
   "outputs": [],
   "source": [
    "library(affy)\n",
    "library(inSilicoMerging)"
   ]
  },
  {
   "cell_type": "code",
   "execution_count": null,
   "metadata": {
    "scrolled": true
   },
   "outputs": [],
   "source": [
    "MAIN_DIR = '.'\n",
    "DATASETS = list('GSE11121',\n",
    "                'GSE18864',\n",
    "                'GSE20711', \n",
    "                'GSE23593',\n",
    "                'GSE27120',\n",
    "                'GSE32646', \n",
    "                'GSE36771', \n",
    "                'GSE42568',\n",
    "                'GSE50948',\n",
    "                'GSE5460',\n",
    "                'GSE11001',\n",
    "                'GSE87007',\n",
    "                'GSE88770', \n",
    "                'GSE7390', \n",
    "                'GSE78958',\n",
    "                'GSE45255', \n",
    "                'GSE61304', \n",
    "                'GSE63471', \n",
    "                'GSE21653', \n",
    "                'GSE26639', \n",
    "                'GSE17907',\n",
    "                'GSE10810',\n",
    "                'GSE25066',\n",
    "                'GSE47109', \n",
    "                'GSE95700', \n",
    "                'GSE5327', \n",
    "                'GSE48390', \n",
    "                'GSE58984',\n",
    "                'GSE103091',\n",
    "                'GSE45827',\n",
    "                'GSE65194', \n",
    "                'GSE1456',\n",
    "                'GSE102484')"
   ]
  },
  {
   "cell_type": "code",
   "execution_count": null,
   "metadata": {},
   "outputs": [],
   "source": [
    "# Changeing the cels data to Affy to use in rma (ReadAffy)\n",
    "esets = list()\n",
    "for(dataset in DATASETS) {\n",
    "    env <- new.env()\n",
    "    filename = sprintf('%s/main_data/%s/rma/%s.rma.RData', MAIN_DIR, dataset, dataset)\n",
    "    print(sprintf('Loading file %s', filename))\n",
    "    nm <- load(filename, env)[1]\n",
    "    cancer_data <- env[[nm]]\n",
    "    pData(cancer_data)['sample'] = dataset\n",
    "    esets <- append(esets, cancer_data)\n",
    "}"
   ]
  },
  {
   "cell_type": "code",
   "execution_count": null,
   "metadata": {},
   "outputs": [],
   "source": [
    "eset_COMBAT = inSilicoMerging::merge(esets, method=\"COMBAT\")"
   ]
  },
  {
   "cell_type": "code",
   "execution_count": null,
   "metadata": {},
   "outputs": [],
   "source": [
    "# saveing affy file \n",
    "dir.create(sprintf('%s/analysed_datasets/merged', MAIN_DIR))\n",
    "save(eset_COMBAT, file=sprintf('%s/analysed_datasets/merged/eset_merged_COMBAT_rma.RData', MAIN_DIR))"
   ]
  },
  {
   "cell_type": "code",
   "execution_count": null,
   "metadata": {},
   "outputs": [],
   "source": [
    "cancer_data.matrix <- affy::exprs(eset_COMBAT)\n",
    "head(cancer_data.matrix)"
   ]
  },
  {
   "cell_type": "code",
   "execution_count": null,
   "metadata": {},
   "outputs": [],
   "source": [
    "# list of dublicated samples\n",
    "len = ncol(cancer_data.matrix)\n",
    "duplicated_names = list()\n",
    "sample_names = colnames(cancer_data.matrix)\n",
    "j = 0\n",
    "for(i in 1:len){\n",
    "    item = unlist(strsplit(unlist(strsplit(colnames(cancer_data.matrix)[i], split='.', fixed=TRUE))[1], split='_', fixed=TRUE))[1]\n",
    "    \n",
    "    if(!item %in% sample_names){\n",
    "      sample_names[i] = item\n",
    "    }\n",
    "    else {\n",
    "        duplicated_names[j] = sample_names[i]\n",
    "        j = j + 1\n",
    "   }\n",
    "    \n",
    "}"
   ]
  },
  {
   "cell_type": "code",
   "execution_count": null,
   "metadata": {},
   "outputs": [],
   "source": [
    "duplicated_names"
   ]
  },
  {
   "cell_type": "code",
   "execution_count": null,
   "metadata": {},
   "outputs": [],
   "source": [
    "# remove dublicate samples\n",
    "len = ncol(cancer_data.matrix)\n",
    "duplicated_names = list()\n",
    "sample_names = colnames(cancer_data.matrix)\n",
    "j = 0\n",
    "\n",
    "for(i in 1:len){\n",
    "    item = unlist(strsplit(unlist(strsplit(colnames(cancer_data.matrix)[i], split='.', fixed=TRUE))[1], split='_', fixed=TRUE))[1]\n",
    "    sample_names[i] = item  \n",
    "}\n",
    "\n",
    "colnames(cancer_data.matrix)= sample_names"
   ]
  },
  {
   "cell_type": "code",
   "execution_count": null,
   "metadata": {},
   "outputs": [],
   "source": [
    "# save exptession as csv (.matrix.csv)\n",
    "cancer_data_uniq.matrix <- cancer_data.matrix[, !duplicated(colnames(cancer_data.matrix))]",
    "write.csv(cancer_data_uniq.matrix, file= sprintf('%s/analysed_datasets/merged/merged_COMBAT_rma.matrix.csv',MAIN_DIR), row.names=TRUE)"
   ]
  },
  {
   "cell_type": "code",
   "execution_count": null,
   "metadata": {},
   "outputs": [],
   "source": [
    "plotMDS(eset_COMBAT)"
   ]
  }
 ],
 "metadata": {
  "kernelspec": {
   "display_name": "R 3.3",
   "language": "R",
   "name": "ir33"
  },
  "language_info": {
   "codemirror_mode": "r",
   "file_extension": ".r",
   "mimetype": "text/x-r-source",
   "name": "R",
   "pygments_lexer": "r",
   "version": "3.3.3"
  }
 },
 "nbformat": 4,
 "nbformat_minor": 2
}
